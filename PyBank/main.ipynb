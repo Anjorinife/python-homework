{
 "cells": [
  {
   "cell_type": "code",
   "execution_count": 1,
   "id": "7d212299-fd22-4eb4-9284-45d1aa7e56c7",
   "metadata": {},
   "outputs": [
    {
     "name": "stdout",
     "output_type": "stream",
     "text": [
      "Total Months: 86\n",
      "Total:$38382578\n",
      "Average  Change: $-2315.12\n",
      "Greatest Increase in Profits: Feb-2012 ($1926159)\n",
      "Greatest Decrease in Profits: Sep-2013 ($-2196167)\n"
     ]
    }
   ],
   "source": [
    "#import panda functions\n",
    "import pandas as pd\n",
    "\n",
    "#import budget_data to the data frame\n",
    "df = pd.read_csv(\"budget_data.csv\")\n",
    "\n",
    "#Creating the a new file with a column for shifted_value \n",
    "df1 = pd.DataFrame(columns = ['Shifted_values'])\n",
    "\n",
    "#Creating a variable for the total number of months included in the dataset\n",
    "months = df['Date'].count()\n",
    "\n",
    "#printing The total number of months included in the dataset \n",
    "print(f\"Total Months: {months}\")\n",
    "\n",
    "#creating a variabe for the net total amount of Profit/Losses over the entire period\n",
    "total = df['Profit/Losses'].sum()\n",
    "\n",
    "#printing the result for the net total amount of Profit/Losses over the entire period\n",
    "print(f\"Total:${total}\")\n",
    "\n",
    "#appending the df file with the df1 \n",
    "df.append(df1)\n",
    "\n",
    "#inputing the shifted values from the Profit/Losses column to the Shifted_values column in the newly appended dataframe\n",
    "df['Shifted_values'] = df['Profit/Losses'].shift(1)\n",
    "\n",
    "#adding a new column for the diffrences\n",
    "df['price_change']= df['Profit/Losses'] - df['Shifted_values']\n",
    "\n",
    "#Calculating the average of the changes in Profit/Losses over the entire period\n",
    "average = df['price_change'].mean()\n",
    "\n",
    "#printing the average of the changes in Profit/Losses over the entire period\n",
    "print(f\"Average  Change: ${average:.2f}\")\n",
    "\n",
    "#creating a variable for the greatest increase in profits (date and amount) over the entire period\n",
    "Greatest_Increase = int(df ['price_change'].max())\n",
    "\n",
    "#creating a variable for the greatest decrease in profits (date and amount) over the entire period\n",
    "Greatest_Decrease = int(df ['price_change'].min())\n",
    "\n",
    "#determing the position of the greatest increase in profits (date and amount) over the entire period\n",
    "max_value = df ['price_change'].idxmax()\n",
    "\n",
    "#determing the position of the greatest decrease in profits (date and amount) over the entire period\n",
    "min_value = df ['price_change'].idxmin()\n",
    "\n",
    "#printing the greatest increase in profits (date and amount) over the entire period\n",
    "print(f\"Greatest Increase in Profits: {(df['Date'][max_value])} (${(Greatest_Increase)})\")\n",
    "\n",
    "#printing the greatest decrease in profits (date and amount) over the entire period\n",
    "print(f\"Greatest Decrease in Profits: {(df['Date'][min_value])} (${(Greatest_Decrease)})\")"
   ]
  },
  {
   "cell_type": "code",
   "execution_count": 2,
   "id": "0afb3268-b8b8-4c80-ae06-26995a637f1b",
   "metadata": {},
   "outputs": [],
   "source": [
    "f = open(\"Financial_analysis_report.txt\", \"a\")\n",
    "print(\"Financial Analysis!\", file=f)\n",
    "print(f\"Total Months: {months}\", file=f)\n",
    "print(f\"Total:${total}\", file=f)\n",
    "print(f\"Average  Change: ${average:.2f}\", file=f)\n",
    "print(f\"Greatest Increase in Profits: {(df['Date'][max_value])} (${(Greatest_Increase)})\", file=f)\n",
    "print(f\"Greatest Decrease in Profits: {(df['Date'][min_value])} (${(Greatest_Decrease)})\", file=f)\n",
    "f.close()"
   ]
  },
  {
   "cell_type": "code",
   "execution_count": null,
   "id": "491f352c-880b-43ca-8079-22a03ae565c2",
   "metadata": {},
   "outputs": [],
   "source": []
  }
 ],
 "metadata": {
  "kernelspec": {
   "display_name": "Python 3 (ipykernel)",
   "language": "python",
   "name": "python3"
  },
  "language_info": {
   "codemirror_mode": {
    "name": "ipython",
    "version": 3
   },
   "file_extension": ".py",
   "mimetype": "text/x-python",
   "name": "python",
   "nbconvert_exporter": "python",
   "pygments_lexer": "ipython3",
   "version": "3.8.8"
  }
 },
 "nbformat": 4,
 "nbformat_minor": 5
}
